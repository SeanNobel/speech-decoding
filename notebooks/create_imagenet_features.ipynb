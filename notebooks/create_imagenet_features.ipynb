{
 "cells": [
  {
   "cell_type": "code",
   "execution_count": null,
   "metadata": {},
   "outputs": [],
   "source": [
    "#from importlib.resources import path\n",
    "import os\n",
    "import torch\n",
    "import clip\n",
    "import numpy as np\n",
    "from torchvision.transforms import Compose, Resize, CenterCrop, ToTensor, Normalize\n",
    "from tqdm import tqdm\n",
    "import pandas as pd\n",
    "import time\n",
    "from PIL import Image\n",
    "from PIL import ImageFile  # 大きな画像もロード\n",
    "ImageFile.LOAD_TRUNCATED_IMAGES = True"
   ]
  },
  {
   "cell_type": "code",
   "execution_count": null,
   "metadata": {},
   "outputs": [],
   "source": [
    "device = \"cuda\" if torch.cuda.is_available() else \"cpu\"\n",
    "model, preprocess = clip.load(\"ViT-B/32\", device=device)\n",
    "model = model.eval()"
   ]
  },
  {
   "cell_type": "code",
   "execution_count": null,
   "metadata": {},
   "outputs": [],
   "source": [
    "images_dir = \"./imagenet_fall2011_oneImagePerCat_21-2k_20230309/\"\n",
    "list_images = os.listdir(images_dir)\n",
    "len(list_images)"
   ]
  },
  {
   "cell_type": "code",
   "execution_count": null,
   "metadata": {},
   "outputs": [],
   "source": [
    "image_names_list = []\n",
    "image_feats_list = []\n",
    "\n",
    "for img in list_images:\n",
    "    img_dir = images_dir + img\n",
    "    image = preprocess(Image.open(img_dir)).unsqueeze(0).to(device)\n",
    "    with torch.no_grad():\n",
    "        image_features = model.encode_image(image)\n",
    "\n",
    "    \n",
    "    image_features = image_features.to('cpu').detach().numpy().copy()\n",
    "    \n",
    "    image_feats_list.append(image_features)\n",
    "    image_names_list.append(img)"
   ]
  },
  {
   "cell_type": "code",
   "execution_count": null,
   "metadata": {},
   "outputs": [],
   "source": [
    "image_names_np = np.array(image_names_list)\n",
    "image_feats_np = np.array(image_feats_list)"
   ]
  },
  {
   "cell_type": "code",
   "execution_count": null,
   "metadata": {},
   "outputs": [],
   "source": [
    "image_feats_np = np.squeeze(image_feats_np)"
   ]
  },
  {
   "cell_type": "code",
   "execution_count": null,
   "metadata": {},
   "outputs": [],
   "source": [
    "name_feat_dict = {}\n",
    "for img_name  in image_names_list:\n",
    "    for feat_val in image_feats_list:\n",
    "        name_feat_dict[img_name] = feat_val"
   ]
  },
  {
   "cell_type": "code",
   "execution_count": null,
   "metadata": {},
   "outputs": [],
   "source": [
    "a_file = open(\"./normal_semantic_features/stim_ID_clip_imagenet19k_map_20230318.pkl\", \"wb\")\n",
    "pickle.dump(name_feat_dict, a_file)\n",
    "a_file.close()"
   ]
  }
 ],
 "metadata": {
  "language_info": {
   "name": "python"
  },
  "orig_nbformat": 4
 },
 "nbformat": 4,
 "nbformat_minor": 2
}
