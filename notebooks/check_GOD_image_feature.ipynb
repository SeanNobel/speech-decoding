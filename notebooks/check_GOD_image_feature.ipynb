{
 "cells": [
  {
   "cell_type": "code",
   "execution_count": 22,
   "metadata": {},
   "outputs": [],
   "source": [
    "import numpy as np\n",
    "import h5py\n",
    "import bdpy"
   ]
  },
  {
   "cell_type": "code",
   "execution_count": 23,
   "metadata": {},
   "outputs": [],
   "source": [
    "hdf_path = '../../../ImageFeatures.h5'\n",
    "data_feature = bdpy.BData(hdf_path)\n"
   ]
  },
  {
   "cell_type": "code",
   "execution_count": 59,
   "metadata": {},
   "outputs": [],
   "source": [
    "y = data_feature.select('cnn8')             # Image features\n",
    "y_label = data_feature.select('ImageID')  # Image labels\n",
    "y_catlabels = data_feature.select('CatID') \n",
    "# datatype = data_feature.select('DataType')"
   ]
  },
  {
   "cell_type": "code",
   "execution_count": 60,
   "metadata": {},
   "outputs": [
    {
     "data": {
      "text/plain": [
       "(16622, 1)"
      ]
     },
     "execution_count": 60,
     "metadata": {},
     "output_type": "execute_result"
    }
   ],
   "source": [
    "y_catlabels.shape"
   ]
  },
  {
   "cell_type": "code",
   "execution_count": 61,
   "metadata": {},
   "outputs": [],
   "source": [
    "cat_set = np.unique(y_catlabels)"
   ]
  },
  {
   "cell_type": "code",
   "execution_count": 62,
   "metadata": {},
   "outputs": [
    {
     "data": {
      "text/plain": [
       "(15522,)"
      ]
     },
     "execution_count": 62,
     "metadata": {},
     "output_type": "execute_result"
    }
   ],
   "source": [
    "cat_set.shape"
   ]
  },
  {
   "cell_type": "code",
   "execution_count": 63,
   "metadata": {},
   "outputs": [
    {
     "data": {
      "text/plain": [
       "array([7.8460000e+03, 2.1265000e+04, 1.4166900e+05, ..., 1.5093049e+07,\n",
       "       1.5093137e+07, 1.5093298e+07])"
      ]
     },
     "execution_count": 63,
     "metadata": {},
     "output_type": "execute_result"
    }
   ],
   "source": [
    "cat_set"
   ]
  },
  {
   "cell_type": "code",
   "execution_count": 64,
   "metadata": {},
   "outputs": [
    {
     "data": {
      "text/plain": [
       "(16622, 1000)"
      ]
     },
     "execution_count": 64,
     "metadata": {},
     "output_type": "execute_result"
    }
   ],
   "source": [
    "y.shape"
   ]
  },
  {
   "cell_type": "code",
   "execution_count": 65,
   "metadata": {},
   "outputs": [
    {
     "name": "stdout",
     "output_type": "stream",
     "text": [
      "(1250,)\n"
     ]
    }
   ],
   "source": [
    "print(y_label[~np.isnan(y_label)].shape)\n",
    "dataset_ids = np.where(~np.isnan(y_label))[0]\n",
    "y_catlabels = y_catlabels[dataset_ids]\n"
   ]
  },
  {
   "cell_type": "code",
   "execution_count": 66,
   "metadata": {},
   "outputs": [
    {
     "data": {
      "text/plain": [
       "(1250, 1)"
      ]
     },
     "execution_count": 66,
     "metadata": {},
     "output_type": "execute_result"
    }
   ],
   "source": [
    "y_catlabels.shape"
   ]
  },
  {
   "cell_type": "code",
   "execution_count": 69,
   "metadata": {},
   "outputs": [
    {
     "name": "stdout",
     "output_type": "stream",
     "text": [
      "[[1518878.]\n",
      " [1518878.]\n",
      " [1518878.]\n",
      " [1518878.]\n",
      " [1518878.]\n",
      " [1518878.]\n",
      " [1518878.]\n",
      " [1518878.]\n",
      " [1639765.]\n",
      " [1639765.]\n",
      " [1639765.]\n",
      " [1639765.]\n",
      " [1639765.]\n",
      " [1639765.]\n",
      " [1639765.]\n",
      " [1639765.]\n",
      " [1645776.]\n",
      " [1645776.]\n",
      " [1645776.]\n",
      " [1645776.]]\n",
      "[[12596148.]\n",
      " [12596148.]\n",
      " [13111881.]\n",
      " [13111881.]\n",
      " [13111881.]\n",
      " [13111881.]\n",
      " [13111881.]\n",
      " [13111881.]\n",
      " [13111881.]\n",
      " [13111881.]\n",
      " [ 1443537.]\n",
      " [ 1621127.]\n",
      " [ 1677366.]\n",
      " [ 1846331.]\n",
      " [ 1858441.]\n",
      " [ 1943899.]\n",
      " [ 1976957.]\n",
      " [ 2071294.]\n",
      " [ 2128385.]\n",
      " [ 2139199.]\n",
      " [ 2190790.]\n",
      " [ 2274259.]\n",
      " [ 2416519.]\n",
      " [ 2437136.]\n",
      " [ 2437971.]\n",
      " [ 2690373.]\n",
      " [ 2797295.]\n",
      " [ 2824058.]\n",
      " [ 2882301.]\n",
      " [ 2916179.]\n",
      " [ 2950256.]\n",
      " [ 2951358.]\n",
      " [ 3064758.]\n",
      " [ 3122295.]\n",
      " [ 3124170.]\n",
      " [ 3237416.]\n",
      " [ 3272010.]\n",
      " [ 3345837.]\n",
      " [ 3379051.]\n",
      " [ 3452741.]\n",
      " [ 3455488.]\n",
      " [ 3482252.]\n",
      " [ 3495258.]\n",
      " [ 3584254.]\n",
      " [ 3626115.]\n",
      " [ 3710193.]\n",
      " [ 3716966.]\n",
      " [ 3761084.]\n",
      " [ 3767745.]\n",
      " [ 3941684.]]\n",
      "False\n"
     ]
    }
   ],
   "source": [
    "print(y_catlabels[:20])\n",
    "print(y_catlabels[1190:1240])\n",
    "print(y_catlabels[1201] in y_catlabels[:1200])"
   ]
  },
  {
   "cell_type": "code",
   "execution_count": 5,
   "metadata": {},
   "outputs": [
    {
     "data": {
      "text/plain": [
       "<KeysViewHDF5 ['callStack', 'callStackCode', 'createDate', 'createDateRaw', 'createScript', 'dataSet', 'metaData']>"
      ]
     },
     "execution_count": 5,
     "metadata": {},
     "output_type": "execute_result"
    }
   ],
   "source": [
    "file.keys()"
   ]
  },
  {
   "cell_type": "code",
   "execution_count": 7,
   "metadata": {},
   "outputs": [],
   "source": [
    "dataSet = file['dataSet']"
   ]
  },
  {
   "cell_type": "code",
   "execution_count": 9,
   "metadata": {},
   "outputs": [
    {
     "name": "stdout",
     "output_type": "stream",
     "text": [
      "['__array__', '__bool__', '__class__', '__delattr__', '__dict__', '__dir__', '__doc__', '__eq__', '__format__', '__ge__', '__getattribute__', '__getitem__', '__getnewargs__', '__getstate__', '__gt__', '__hash__', '__init__', '__init_subclass__', '__iter__', '__le__', '__len__', '__lt__', '__module__', '__ne__', '__new__', '__nonzero__', '__reduce__', '__reduce_ex__', '__repr__', '__setattr__', '__setitem__', '__sizeof__', '__str__', '__subclasshook__', '__weakref__', '_cache_props', '_d', '_dcpl', '_dxpl', '_e', '_extent_type', '_fast_read_ok', '_fast_reader', '_filters', '_id', '_is_empty', '_lapl', '_lcpl', '_local', '_readonly', '_selector', 'asstr', 'astype', 'attrs', 'chunks', 'compression', 'compression_opts', 'dims', 'dtype', 'external', 'fields', 'file', 'fillvalue', 'fletcher32', 'flush', 'id', 'is_virtual', 'iter_chunks', 'len', 'make_scale', 'maxshape', 'name', 'nbytes', 'ndim', 'parent', 'read_direct', 'ref', 'refresh', 'regionref', 'resize', 'scaleoffset', 'shape', 'shuffle', 'size', 'virtual_sources', 'write_direct']\n",
      "(16622, 13027)\n"
     ]
    }
   ],
   "source": [
    "print(dir(dataSet))\n",
    "print(dataSet.shape)"
   ]
  },
  {
   "cell_type": "code",
   "execution_count": 10,
   "metadata": {},
   "outputs": [
    {
     "data": {
      "text/plain": [
       "<HDF5 file \"ImageFeatures.h5\" (mode r)>"
      ]
     },
     "execution_count": 10,
     "metadata": {},
     "output_type": "execute_result"
    }
   ],
   "source": [
    "dataSet.file"
   ]
  },
  {
   "cell_type": "code",
   "execution_count": 14,
   "metadata": {},
   "outputs": [
    {
     "data": {
      "text/plain": [
       "'/dataSet'"
      ]
     },
     "execution_count": 14,
     "metadata": {},
     "output_type": "execute_result"
    }
   ],
   "source": [
    "dataSet.name"
   ]
  },
  {
   "cell_type": "code",
   "execution_count": 15,
   "metadata": {},
   "outputs": [
    {
     "data": {
      "text/plain": [
       "<HDF5 file \"ImageFeatures.h5\" (mode r)>"
      ]
     },
     "execution_count": 15,
     "metadata": {},
     "output_type": "execute_result"
    }
   ],
   "source": [
    "file"
   ]
  },
  {
   "cell_type": "code",
   "execution_count": 18,
   "metadata": {},
   "outputs": [
    {
     "data": {
      "text/plain": [
       "<HDF5 dataset \"createDateRaw\": shape (), type \"<f8\">"
      ]
     },
     "execution_count": 18,
     "metadata": {},
     "output_type": "execute_result"
    }
   ],
   "source": [
    "DateRaw = file['createDateRaw']\n",
    "DateRaw"
   ]
  },
  {
   "cell_type": "code",
   "execution_count": 20,
   "metadata": {},
   "outputs": [
    {
     "data": {
      "text/plain": [
       "()"
      ]
     },
     "execution_count": 20,
     "metadata": {},
     "output_type": "execute_result"
    }
   ],
   "source": [
    "DateRaw.shape"
   ]
  },
  {
   "cell_type": "code",
   "execution_count": null,
   "metadata": {},
   "outputs": [],
   "source": []
  }
 ],
 "metadata": {
  "interpreter": {
   "hash": "fa6ce55dd1c3529cbf6edc3a2a06ece370eb659233625aa57450f7bb0e28b5f4"
  },
  "kernelspec": {
   "display_name": "Python 3.8.9 ('basic_env')",
   "language": "python",
   "name": "python3"
  },
  "language_info": {
   "codemirror_mode": {
    "name": "ipython",
    "version": 3
   },
   "file_extension": ".py",
   "mimetype": "text/x-python",
   "name": "python",
   "nbconvert_exporter": "python",
   "pygments_lexer": "ipython3",
   "version": "3.8.9"
  },
  "orig_nbformat": 4
 },
 "nbformat": 4,
 "nbformat_minor": 2
}
