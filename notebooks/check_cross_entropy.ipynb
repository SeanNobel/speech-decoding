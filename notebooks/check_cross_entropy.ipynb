{
 "cells": [
  {
   "cell_type": "code",
   "execution_count": 8,
   "metadata": {},
   "outputs": [
    {
     "data": {
      "text/plain": [
       "tensor([2.1326, 2.4327, 2.1326, 0.0141])"
      ]
     },
     "execution_count": 8,
     "metadata": {},
     "output_type": "execute_result"
    }
   ],
   "source": [
    "import torch\n",
    "\n",
    "\n",
    "criterion = torch.nn.CrossEntropyLoss(weight=None,reduction='none')\n",
    "\n",
    "\n",
    "# dummy_input = torch.rand((5, 10))\n",
    "dummy_input = torch.Tensor(\n",
    "    [[1,2,1,1,2], [1,1,1,1,3], [1,1,2,2,1], [6,1,0,0,0]]\n",
    ")\n",
    "gt = torch.Tensor([0,0,0,0]).to(torch.long)\n",
    "\n",
    "loss = criterion(dummy_input, gt)\n",
    "loss\n"
   ]
  },
  {
   "cell_type": "code",
   "execution_count": 19,
   "metadata": {},
   "outputs": [
    {
     "data": {
      "text/plain": [
       "tensor([1.0663, 2.4327, 2.1326, 0.0141])"
      ]
     },
     "execution_count": 19,
     "metadata": {},
     "output_type": "execute_result"
    }
   ],
   "source": [
    "gt = torch.Tensor([[0.5,0,0,0,0],\n",
    "                   [1,0,0,0,0],\n",
    "                   [1,0,0,0,0],\n",
    "                   [1,0,0,0,0]]).to(torch.float)\n",
    "criterion(dummy_input, gt)"
   ]
  },
  {
   "cell_type": "code",
   "execution_count": null,
   "metadata": {},
   "outputs": [],
   "source": []
  }
 ],
 "metadata": {
  "interpreter": {
   "hash": "1b70c5c1a21016cbfc32955d08cc77b5418ee3e266e24c666e8f7e93f3fba14d"
  },
  "kernelspec": {
   "display_name": "Python 3.8.9 ('basic_env')",
   "language": "python",
   "name": "python3"
  },
  "language_info": {
   "codemirror_mode": {
    "name": "ipython",
    "version": 3
   },
   "file_extension": ".py",
   "mimetype": "text/x-python",
   "name": "python",
   "nbconvert_exporter": "python",
   "pygments_lexer": "ipython3",
   "version": "3.8.9"
  },
  "orig_nbformat": 4
 },
 "nbformat": 4,
 "nbformat_minor": 2
}
