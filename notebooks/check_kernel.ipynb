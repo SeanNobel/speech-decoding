{
 "cells": [
  {
   "cell_type": "code",
   "execution_count": 33,
   "id": "4c54ac41",
   "metadata": {},
   "outputs": [],
   "source": [
    "import scipy.io\n",
    "import scipy\n",
    "import matplotlib.pyplot as plt\n",
    "import numpy as np\n",
    "import os"
   ]
  },
  {
   "cell_type": "code",
   "execution_count": 53,
   "id": "215844d5",
   "metadata": {},
   "outputs": [],
   "source": [
    "ids = '01'\n",
    "kernel_dir = f'/work/project/MEG_GOD/GOD_dataset/sbj{ids}/kernel'\n",
    "ind_kernel_filename = 'results_MN_MEG_KERNEL_block001.mat'\n",
    "common_kernel_filename = 'tess_cortex_pial_low.mat'\n",
    "\n",
    "ch_index_path = '/work/project/MEG_GOD/GOD_dataset/channel_index.mat'\n",
    "ch_index_path2 = '/work/project/MEG_GOD/GOD_dataset/channel_ricoh_acc1.mat'"
   ]
  },
  {
   "cell_type": "markdown",
   "id": "a971a766",
   "metadata": {},
   "source": [
    "# Kernel"
   ]
  },
  {
   "cell_type": "code",
   "execution_count": 10,
   "id": "fcb3cd75",
   "metadata": {},
   "outputs": [
    {
     "name": "stdout",
     "output_type": "stream",
     "text": [
      "/work/project/MEG_GOD/GOD_dataset/sbj01/kernel/results_MN_MEG_KERNEL_block001.mat\n",
      "/work/project/MEG_GOD/GOD_dataset/sbj01/kernel/tess_cortex_pial_low.mat\n"
     ]
    }
   ],
   "source": [
    "ind_kernel_path = os.path.join(kernel_dir, ind_kernel_filename)\n",
    "common_kernel_path = os.path.join(kernel_dir, common_kernel_filename)\n",
    "print(ind_kernel_path)\n",
    "print(common_kernel_path)\n",
    "ind_kernel = scipy.io.loadmat(ind_kernel_path)\n",
    "common_kernel = scipy.io.loadmat(common_kernel_path)"
   ]
  },
  {
   "cell_type": "code",
   "execution_count": 12,
   "id": "f5390c44",
   "metadata": {},
   "outputs": [
    {
     "name": "stdout",
     "output_type": "stream",
     "text": [
      "dict_keys(['__header__', '__version__', '__globals__', 'ImagingKernel', 'ImageGridAmp', 'Std', 'Whitener', 'SourceDecompSa', 'SourceDecompVa', 'nComponents', 'Comment', 'Function', 'Time', 'DataFile', 'HeadModelFile', 'HeadModelType', 'ChannelFlag', 'GoodChannel', 'SurfaceFile', 'Atlas', 'GridLoc', 'GridOrient', 'GridAtlas', 'Options', 'ColormapType', 'DisplayUnits', 'ZScore', 'nAvg', 'Leff', 'DataWhitener', 'History'])\n",
      "\n",
      "\n",
      "dict_keys(['__header__', '__version__', '__globals__', 'Comment', 'Vertices', 'Faces', 'VertConn', 'VertNormals', 'Curvature', 'SulciMap', 'Atlas', 'iAtlas', 'tess2mri_interp', 'Reg', 'History', 'tess2tess_interp'])\n"
     ]
    }
   ],
   "source": [
    "print(ind_kernel.keys())\n",
    "print('\\n')\n",
    "print(common_kernel.keys())"
   ]
  },
  {
   "cell_type": "code",
   "execution_count": 50,
   "id": "a66e9a80",
   "metadata": {},
   "outputs": [],
   "source": [
    "ind_mat = ind_kernel['ImagingKernel']\n",
    "common_mat = common_kernel['tess2tess_interp']['Wmat'][0,0].toarray()# common_kernel['tess2tess_interp']"
   ]
  },
  {
   "cell_type": "code",
   "execution_count": 51,
   "id": "8cb221bc",
   "metadata": {},
   "outputs": [
    {
     "name": "stdout",
     "output_type": "stream",
     "text": [
      "ind_mat, shape (15002, 160)\n",
      "common_mat, shape (15002, 15002)\n"
     ]
    }
   ],
   "source": [
    "print('ind_mat, shape', ind_mat.shape)\n",
    "print('common_mat, shape', common_mat.shape)"
   ]
  },
  {
   "cell_type": "markdown",
   "id": "c717c9d1",
   "metadata": {},
   "source": [
    "# Ch Index"
   ]
  },
  {
   "cell_type": "code",
   "execution_count": 79,
   "id": "004c8af8",
   "metadata": {},
   "outputs": [
    {
     "name": "stdout",
     "output_type": "stream",
     "text": [
      "(47, 1)\n",
      "(85, 1)\n",
      "(22, 1)\n",
      "(32, 1)\n",
      "(31, 1)\n",
      "(52, 1)\n",
      "(84, 1)\n",
      "(28, 1)\n",
      "(30, 1)\n",
      "(38, 1)\n",
      "(449, 1)\n",
      "449\n"
     ]
    }
   ],
   "source": [
    "cnt = 0\n",
    "target_roi_indices = []\n",
    "roi_blocks = [1, 2, 3, 4, 5, 24, 25, 26, 27, 28]\n",
    "for i in roi_blocks:\n",
    "    id_ = str(i).zfill(2)\n",
    "    roi_path = f'/work/project/MEG_GOD/hyang/BData/ROI/hcp44_{id_}.mat'\n",
    "    roi = scipy.io.loadmat(roi_path)\n",
    "    # print(roi.keys())\n",
    "    print(roi['vertex_ds'].shape) # vertex_ds => down sampled\n",
    "    cnt+= roi['vertex_ds'].shape[0]\n",
    "    target_roi_indices.append(roi['vertex_ds'])\n",
    "target_roi_indices = np.concatenate(target_roi_indices, axis=0) - 1 # 0始まりなので\n",
    "print(target_roi_indices.shape)\n",
    "print(cnt)"
   ]
  },
  {
   "cell_type": "markdown",
   "id": "c38f7526",
   "metadata": {},
   "source": [
    "# create Kernel "
   ]
  },
  {
   "cell_type": "code",
   "execution_count": 80,
   "id": "e427f8db",
   "metadata": {},
   "outputs": [
    {
     "name": "stdout",
     "output_type": "stream",
     "text": [
      "common_mat shape:  (15002, 15002)\n",
      "ind_mat shape:  (15002, 160)\n",
      "whole_brain_kernel shape:  (15002, 160)\n",
      "target_region_kernel shape:  (449, 160)\n"
     ]
    }
   ],
   "source": [
    "print('common_mat shape: ', common_mat.shape)\n",
    "print('ind_mat shape: ', ind_mat.shape)\n",
    "whole_brain_kernel = common_mat @ ind_mat\n",
    "print('whole_brain_kernel shape: ', whole_brain_kernel.shape)\n",
    "target_region_kernel = whole_brain_kernel[target_roi_indices[:,0]]\n",
    "print('target_region_kernel shape: ', target_region_kernel.shape)"
   ]
  },
  {
   "cell_type": "code",
   "execution_count": 83,
   "id": "da1f65c7",
   "metadata": {},
   "outputs": [
    {
     "name": "stdout",
     "output_type": "stream",
     "text": [
      "True\n"
     ]
    }
   ],
   "source": [
    "# more effective solution\n",
    "target_region_kernel2 = common_mat[target_roi_indices[:,0]] @ ind_mat\n",
    "print(np.all(target_region_kernel == target_region_kernel2))"
   ]
  },
  {
   "cell_type": "code",
   "execution_count": 84,
   "id": "6abd9273",
   "metadata": {},
   "outputs": [
    {
     "data": {
      "text/plain": [
       "array([[ 1.24827573e+01, -4.99507740e+00, -1.62593974e+00, ...,\n",
       "         7.88378056e+00,  6.55078261e+00, -2.20422287e-01],\n",
       "       [ 1.67562931e+00,  5.96575447e+00, -7.16630738e+00, ...,\n",
       "         1.00485658e+01,  7.33753902e+01, -2.70995233e+01],\n",
       "       [ 8.07409642e+00,  3.48792221e+00, -2.31603135e+00, ...,\n",
       "         2.50704393e+01,  2.02620577e+01,  1.04795787e+01],\n",
       "       ...,\n",
       "       [ 7.87640771e-01, -1.26336525e+01, -7.65767730e-01, ...,\n",
       "        -5.35187564e+01,  2.50645984e+01,  7.24292542e+01],\n",
       "       [ 1.64869634e+01,  1.30704460e+01, -3.77746358e-02, ...,\n",
       "        -9.71827266e+01,  1.47162953e+01,  8.69700331e+00],\n",
       "       [ 1.41121592e+00,  9.56242611e+00, -1.91236401e+00, ...,\n",
       "        -1.98866969e+01,  1.62664471e+01, -9.43809630e+00]])"
      ]
     },
     "execution_count": 84,
     "metadata": {},
     "output_type": "execute_result"
    }
   ],
   "source": [
    "target_region_kernel2"
   ]
  },
  {
   "cell_type": "code",
   "execution_count": null,
   "id": "a7daafa1",
   "metadata": {},
   "outputs": [],
   "source": []
  }
 ],
 "metadata": {
  "kernelspec": {
   "display_name": "Python 3 (ipykernel)",
   "language": "python",
   "name": "python3"
  },
  "language_info": {
   "codemirror_mode": {
    "name": "ipython",
    "version": 3
   },
   "file_extension": ".py",
   "mimetype": "text/x-python",
   "name": "python",
   "nbconvert_exporter": "python",
   "pygments_lexer": "ipython3",
   "version": "3.8.5"
  }
 },
 "nbformat": 4,
 "nbformat_minor": 5
}
