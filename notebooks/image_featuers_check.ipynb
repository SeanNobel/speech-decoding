{
 "cells": [
  {
   "cell_type": "code",
   "execution_count": 1,
   "id": "231b2509",
   "metadata": {},
   "outputs": [],
   "source": [
    "import matplotlib.pyplot as plt\n",
    "import numpy as np\n"
   ]
  },
  {
   "cell_type": "code",
   "execution_count": null,
   "id": "faf15eff",
   "metadata": {},
   "outputs": [],
   "source": [
    "train_image_path = '/home/yainoue/meg2image/codes/MEG-decoding/data/GOD/image_features_train.npy'\n",
    "test_image_path = '/home/yainoue/meg2image/codes/MEG-decoding/data/GOD/image_features.npy'"
   ]
  }
 ],
 "metadata": {
  "kernelspec": {
   "display_name": "Python 3 (ipykernel)",
   "language": "python",
   "name": "python3"
  },
  "language_info": {
   "codemirror_mode": {
    "name": "ipython",
    "version": 3
   },
   "file_extension": ".py",
   "mimetype": "text/x-python",
   "name": "python",
   "nbconvert_exporter": "python",
   "pygments_lexer": "ipython3",
   "version": "3.8.5"
  }
 },
 "nbformat": 4,
 "nbformat_minor": 5
}
